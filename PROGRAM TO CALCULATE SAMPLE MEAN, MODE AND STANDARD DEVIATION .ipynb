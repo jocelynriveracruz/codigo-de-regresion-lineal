{
 "cells": [
  {
   "cell_type": "markdown",
   "metadata": {},
   "source": [
    "                           PROGRAM TO CALCULATE SAMPLE MEAN, MODE AND STANDARD DEVIATION\n",
    "\n",
    "                            CASTELLANOS BARRON SARAH E. AND RIVERA CRUZ JOCELYN G. 3\"E\""
   ]
  },
  {
   "cell_type": "code",
   "execution_count": null,
   "metadata": {},
   "outputs": [],
   "source": [
    "#first define the variables \n",
    "x= 0\n",
    "a= 0\n",
    "totalx= 0\n",
    "totalxx= 0\n",
    "samplemean= 0\n",
    "apariciones= 0\n",
    "repeticiones= 0\n",
    "\n",
    "#define the data set\n",
    "values= int(input(\"\\n Give me the number of set of datas of: \"))\n",
    "v= values\n",
    "x=[]\n",
    "\n",
    "#enter the variables that the user is going to use\n",
    "for i in range (0, values):\n",
    "    z= float(input(f\"\\n introduce the values{i+1}: \"))\n",
    "    x.append(z)\n",
    "    totalx += z\n",
    "    print(\"\\n the sumatory of the values is\",totalx)\n",
    "\n",
    "#give the options that the user can calculate \n",
    "print(\"\\n what operation the user wants to calculate: \")\n",
    "print(\"\\n 1 sample mean\")\n",
    "print(\"\\n 2 mode\")\n",
    "print(\"\\n 3 standard derivation\")\n",
    "\n",
    "option= int(input(\"\\n choose a option:\\n \"))\n",
    "\n",
    "#sample mean \n",
    "if option == 1 :\n",
    "        \n",
    "    samplemean= totalx / v\n",
    "    print(\"\\n the sample mean is\\n\",samplemean)\n",
    "    \n",
    "#mode     \n",
    "if option == 2 :\n",
    "    \n",
    "    repeticiones = 0 \n",
    "    for i in x:\n",
    "            \n",
    "        apariciones = x.count(i)                                                             \n",
    "        if apariciones > repeticiones:\n",
    "            repeticiones = apariciones                                                       \n",
    "                                                                                         \n",
    "mode = [] \n",
    "\n",
    "for i in x:\n",
    "    \n",
    "    apariciones = x.count(i)                                                             \n",
    "    if apariciones == repeticiones and i not in mode:                                   \n",
    "        mode.append(i) \n",
    "        print (\"\\n mode is: \", mode) \n",
    "       \n",
    " #standard deviation \n",
    "if option == 3:\n",
    "        for g in range(0,values):\n",
    "            totalx +=x[g] \n",
    "            Suma= totalx/v\n",
    "        for s in range(0, values):\n",
    "            d+=(x[s]-samplemean)**2\n",
    "    \n",
    "        d=(d/((values)-1))**(1/2)    \n",
    "        print(\"The Sample Deviation is: \",d)   \n",
    "\n",
    "if option > 3:\n",
    "    print(\"Error\")"
   ]
  },
  {
   "cell_type": "code",
   "execution_count": null,
   "metadata": {},
   "outputs": [],
   "source": []
  }
 ],
 "metadata": {
  "kernelspec": {
   "display_name": "Python 3",
   "language": "python",
   "name": "python3"
  },
  "language_info": {
   "codemirror_mode": {
    "name": "ipython",
    "version": 3
   },
   "file_extension": ".py",
   "mimetype": "text/x-python",
   "name": "python",
   "nbconvert_exporter": "python",
   "pygments_lexer": "ipython3",
   "version": "3.7.3"
  }
 },
 "nbformat": 4,
 "nbformat_minor": 2
}
