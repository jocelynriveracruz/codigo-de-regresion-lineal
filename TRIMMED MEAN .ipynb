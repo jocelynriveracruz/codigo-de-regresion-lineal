{
 "cells": [
  {
   "cell_type": "markdown",
   "metadata": {},
   "source": [
    "                               PROGRAM TO CALCULATE TRIMMED MEAN \n",
    "                     CASTELLANOS BARRON SARAH E.  AND  RIVERA CRUZ JOCELYN G."
   ]
  },
  {
   "cell_type": "code",
   "execution_count": null,
   "metadata": {},
   "outputs": [],
   "source": [
    "x= 0\n",
    "total_x= 0\n",
    "\n",
    "\n",
    "values= int(input(\"\\n Give me the set of data: \"))\n",
    "v= [] \n",
    "\n",
    "for i in range (0,values):\n",
    "    numeros= float(input(\"introduce the values:\"))\n",
    "    v.append(numeros)\n",
    "    total_x += numeros #sumatoria de datos\n",
    "print(\"\\n This is your seample mean: \")#imprimir seample mean\n",
    "\n",
    "sample_mean = total_x/values\n",
    "print(f\"\\nThe sample mean is = {sample_mean}\")\n",
    "\n",
    "a11 = sorted(v) #acomoda los numeros de menor a mayor \n",
    "\n",
    "print(\"Data accommodated in descending order:\")\n",
    "print(a11)\n",
    "\n",
    "\n",
    "\n",
    "porcentaje=int(input(\"Percentage to use: \"))\n",
    "p= (porcentaje/100) #el numero entero convertirlo a porcentaje\n",
    "x=(round(p*values))#redondear y mulriplicar el porcentaje por el conjunto de datas establecidos\n",
    "\n",
    "t_m =(a11[x:values-x])\n",
    "\n",
    "suma = sum (t_m)\n",
    "contar =len(t_m)\n",
    "resultado = suma/contar\n",
    "print(\"Trimmed mean: \",resultado)"
   ]
  }
 ],
 "metadata": {
  "kernelspec": {
   "display_name": "Python 3",
   "language": "python",
   "name": "python3"
  },
  "language_info": {
   "codemirror_mode": {
    "name": "ipython",
    "version": 3
   },
   "file_extension": ".py",
   "mimetype": "text/x-python",
   "name": "python",
   "nbconvert_exporter": "python",
   "pygments_lexer": "ipython3",
   "version": "3.7.3"
  }
 },
 "nbformat": 4,
 "nbformat_minor": 2
}
