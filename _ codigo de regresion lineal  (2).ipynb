{
 "cells": [
  {
   "cell_type": "code",
   "execution_count": 10,
   "metadata": {},
   "outputs": [
    {
     "name": "stdout",
     "output_type": "stream",
     "text": [
      "Give me the number of set of datas of: 6\n",
      " \n",
      " introduce the values in x:  1\n",
      "6\n",
      " introduce the values in y:  1\n",
      "6\n",
      " \n",
      " \n",
      " introduce the values in x:  2\n",
      "6\n",
      " introduce the values in y:  2\n",
      "6\n",
      " \n",
      " \n",
      " introduce the values in x:  3\n",
      "6\n",
      " introduce the values in y:  3\n",
      "6\n",
      " \n",
      " \n",
      " introduce the values in x:  4\n",
      "6\n",
      " introduce the values in y:  4\n",
      "6\n",
      " \n",
      " \n",
      " introduce the values in x:  5\n",
      "6\n",
      " introduce the values in y:  5\n",
      "6\n",
      " \n",
      " \n",
      " introduce the values in x:  6\n",
      "6\n",
      " introduce the values in y:  6\n",
      "6\n",
      " \n",
      "y=: 6.0 + -0.0 x\n"
     ]
    }
   ],
   "source": [
    "x= 0\n",
    "x2= 0\n",
    "y= 0\n",
    "xy= 0\n",
    "c= 1\n",
    "values= int(input(\"Give me the number of set of datas of: \"))\n",
    "v= values \n",
    "while values >= 1:\n",
    "    \n",
    "    print(\" \")\n",
    "    print(\" introduce the values in x: \",c)\n",
    "    z= int(input())\n",
    "    x= x + z\n",
    "    x2= x2 + (z**2)\n",
    "    print(\" introduce the values in y: \",c)\n",
    "    q= int(input())\n",
    "    y= y + q\n",
    "    print(\" \")\n",
    "    xy= xy + (z * q)\n",
    "    c= c + 1\n",
    "    values= values -1\n",
    "\n",
    "j= x**2\n",
    "\n",
    "B1= (((values)*(xy))-((x)-(y))) / (((values)*(j))-((x)**2))\n",
    "B0= ((y) - ((B1)*(x)))\n",
    "B01= B0 / v\n",
    "\n",
    "print(\"y=:\", B01,\"+\",B1,\"x\")"
   ]
  }
 ],
 "metadata": {
  "kernelspec": {
   "display_name": "Python 3",
   "language": "python",
   "name": "python3"
  },
  "language_info": {
   "codemirror_mode": {
    "name": "ipython",
    "version": 3
   },
   "file_extension": ".py",
   "mimetype": "text/x-python",
   "name": "python",
   "nbconvert_exporter": "python",
   "pygments_lexer": "ipython3",
   "version": "3.7.3"
  }
 },
 "nbformat": 4,
 "nbformat_minor": 2
}
