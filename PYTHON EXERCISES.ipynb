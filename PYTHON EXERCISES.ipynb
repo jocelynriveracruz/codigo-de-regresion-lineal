{
 "cells": [
  {
   "cell_type": "markdown",
   "metadata": {},
   "source": [
    "# PYTHON EXERCISES \n",
    "CASTELLANOS BARRON SARAH E. AND RIVERA CRUZ JOCELYN G."
   ]
  },
  {
   "cell_type": "markdown",
   "metadata": {},
   "source": [
    "# Exercise 13 Parameters, Unpacking, Variables\n",
    "argv means \"argument variables\", is a variable that contains the arguments that it passes to your Python script when you run it"
   ]
  },
  {
   "cell_type": "code",
   "execution_count": 2,
   "metadata": {},
   "outputs": [
    {
     "name": "stdout",
     "output_type": "stream",
     "text": [
      "The script is called:  C:\\Users\\caste\\Anaconda3\\lib\\site-packages\\ipykernel_launcher.py\n",
      "Your first variable is:  -f\n",
      "Your second variable is:  C:\\Users\\caste\\AppData\\Roaming\\jupyter\\runtime\\kernel-86057768-74b3-46ca-88e7-5cf775791e3f.json\n"
     ]
    }
   ],
   "source": [
    "from sys import argv\n",
    "cars, mazda, kia = argv\n",
    "print(\"The script is called: \", cars)\n",
    "print(\"Your first variable is: \", mazda)\n",
    "print(\"Your second variable is: \",kia)"
   ]
  },
  {
   "cell_type": "markdown",
   "metadata": {},
   "source": [
    "  # Excercise 14  Prompting and Passing\n",
    "  The variables that will be used to ask something specific to the user with simple prompt are saved."
   ]
  },
  {
   "cell_type": "code",
   "execution_count": null,
   "metadata": {
    "scrolled": false
   },
   "outputs": [
    {
     "name": "stdout",
     "output_type": "stream",
     "text": [
      "Hello-f, I´m C:\\Users\\caste\\Anaconda3\\lib\\site-packages\\ipykernel_launcher.py script.\n",
      "I'd like to ask some questions.\n",
      "Do you like it -f?\n"
     ]
    }
   ],
   "source": [
    "from sys import argv\n",
    "ask, user, lol= argv\n",
    "prompt= '>'\n",
    "print(f\"Hello{user}, I´m {ask} script.\")\n",
    "print(\"I'd like to ask some questions.\")\n",
    "print(f\"Do you like it {user}?\")\n",
    "like = input(prompt)\n",
    "print(f\"Where do you study {user}?\")\n",
    "study = input(prompt)\n",
    "print(f\"What is the brand of the cellphone do you have {user}?\")\n",
    "cellphone = input(prompt)\n",
    "\n",
    "print(f\"Okay, so you said {like} about ask some questions. You study in {study} and you have a {cellphone}. Very good\")"
   ]
  },
  {
   "cell_type": "markdown",
   "metadata": {},
   "source": [
    "# Excercise 15  Reading Files\n",
    "The selected file will be read."
   ]
  },
  {
   "cell_type": "code",
   "execution_count": null,
   "metadata": {},
   "outputs": [
    {
     "name": "stdout",
     "output_type": "stream",
     "text": [
      "This is your file C:\\Users\\caste\\AppData\\Roaming\\jupyter\\runtime\\kernel-2aaf1049-3810-4995-be93-ec07047bc1bd.json: \n",
      "{\n",
      "  \"shell_port\": 1854,\n",
      "  \"iopub_port\": 1855,\n",
      "  \"stdin_port\": 1856,\n",
      "  \"control_port\": 1857,\n",
      "  \"hb_port\": 1858,\n",
      "  \"ip\": \"127.0.0.1\",\n",
      "  \"key\": \"4c758d34-b64e86dbf75edd8190888f4b\",\n",
      "  \"transport\": \"tcp\",\n",
      "  \"signature_scheme\": \"hmac-sha256\",\n",
      "  \"kernel_name\": \"\"\n",
      "}\n",
      "Type the archivo 1 again: \n"
     ]
    }
   ],
   "source": [
    "from sys import argv\n",
    "file, archivo, archivo1 =argv\n",
    "texto= open(archivo1)\n",
    "print(f\"This is your file {archivo1}: \")\n",
    "print(texto.read())\n",
    "print(\"Type the archivo 1 again: \")\n",
    "arch_again= input(\"> \")\n",
    "texto_again = open(arch_again)\n",
    "print(texto_again.read())\n"
   ]
  },
  {
   "cell_type": "markdown",
   "metadata": {},
   "source": [
    "# Exercise 16 Reading and Writing Files\n",
    "The selected file will be read by writing again"
   ]
  },
  {
   "cell_type": "code",
   "execution_count": null,
   "metadata": {},
   "outputs": [
    {
     "name": "stdout",
     "output_type": "stream",
     "text": [
      "We are going to open the file C:\\Users\\caste\\AppData\\Roaming\\jupyter\\runtime\\kernel-2aaf1049-3810-4995-be93-ec07047bc1bd.json: \n",
      "Now I'm going to ask 2 lines: \n"
     ]
    }
   ],
   "source": [
    "from sys import argv\n",
    "file, archivo, archivo1 =argv\n",
    "print(f\"We are going to open the file {archivo1}: \")\n",
    "target = open(archivo1)\n",
    "\n",
    "print(f\"Now I'm going to ask 2 lines: \")\n",
    "line1= input (\"Line1: \")\n",
    "line2= input(\"Line2: \")\n",
    "print(\"I'm going to write these to the file.\")\n",
    "target.write(line1)\n",
    "target.write (line2)\n",
    "print(\"We close it\")\n",
    "target.close()"
   ]
  },
  {
   "cell_type": "markdown",
   "metadata": {},
   "source": [
    "# Exercise 17 More Files\n",
    "We'll write a Python script to copy one file to another."
   ]
  },
  {
   "cell_type": "code",
   "execution_count": null,
   "metadata": {},
   "outputs": [],
   "source": [
    "from sys import argv\n",
    "from os.path import exists\n",
    "script, from_file, to_file = argv\n",
    "print(f\"Copying from {from_file} to {to_file}\")\n",
    "# we could do these two on one line, how?\n",
    "in_file = open(from_file)\n",
    "indata = in_file.read()\n",
    "print(f\"The input file is {len(indata)} bytes long\")\n",
    "print(f\"Does the output file exist? {exists(to_file)}\")\n",
    "print(\"Ready, hit RETURN to continue, CTRL-C to abort.\")\n",
    "input()\n",
    "out_file = open(to_file, 'w')\n",
    "out_file.write(indata)\n",
    "print(\"Alright, all done.\")\n",
    "out_file.close()\n",
    "in_file.close()\n"
   ]
  },
  {
   "cell_type": "markdown",
   "metadata": {},
   "source": [
    "# Exercise 18 Names, Variables, Code, Functions"
   ]
  },
  {
   "cell_type": "code",
   "execution_count": 1,
   "metadata": {},
   "outputs": [
    {
     "name": "stdout",
     "output_type": "stream",
     "text": [
      "arg1: jocelyn, arg2: Sarah\n",
      "arg1: jocelyn, arg2: Sarah\n",
      "arg1: First!\n",
      "I got nothin'.\n"
     ]
    }
   ],
   "source": [
    "#the function \"*args\"  That tells Python to take all the arguments to the function and then put them in args as a list\n",
    "def print_two(*args):\n",
    "    pencil, pen = args \n",
    "    print (f\"arg1: {pencil}, arg2: {pen}\")\n",
    "\n",
    "def print_two_again(pencil, pen):\n",
    "      print(f\"arg1: {pencil}, arg2: {pen}\")\n",
    "\n",
    "def print_one(pencil):\n",
    "    print(f\"arg1: {pencil}\")\n",
    "    \n",
    "def print_none(): \n",
    "    print(\"I got nothin'.\")\n",
    "    \n",
    "print_two(\"jocelyn\",\"Sarah\") \n",
    "print_two_again(\"jocelyn\",\"Sarah\") \n",
    "print_one(\"First!\") \n",
    "print_none()"
   ]
  },
  {
   "cell_type": "markdown",
   "metadata": {},
   "source": [
    "# exercise 19 Functions and Variables"
   ]
  },
  {
   "cell_type": "code",
   "execution_count": 2,
   "metadata": {},
   "outputs": [
    {
     "name": "stdout",
     "output_type": "stream",
     "text": [
      "We can just give the function numbers directly:\n",
      "You have 6 pens!\n",
      "You have 8 pencils!\n",
      "buy them now.\n",
      "\n",
      "OR, we can use variables from our script:\n",
      "You have 7 pens!\n",
      "You have 9 pencils!\n",
      "buy them now.\n",
      "\n",
      "We can even do math inside too:\n",
      "You have 13 pens!\n",
      "You have 13 pencils!\n",
      "buy them now.\n",
      "\n",
      "And we can combine the two, variables and math:\n",
      "You have 77 pens!\n",
      "You have 89 pencils!\n",
      "buy them now.\n",
      "\n"
     ]
    }
   ],
   "source": [
    "def pen_and_pencil(pen_count, boxes_of_pencil):\n",
    "        \n",
    "        print(f\"You have {pen_count} pens!\") \n",
    "        print(f\"You have {boxes_of_pencil} pencils!\")\n",
    "        print(\"buy them now.\\n\")\n",
    "        \n",
    "print(\"We can just give the function numbers directly:\") \n",
    "pen_and_pencil(6, 8)\n",
    "\n",
    "print(\"OR, we can use variables from our script:\")\n",
    "amount_of_pen = 7 \n",
    "amount_of_pencil = 9\n",
    "\n",
    "pen_and_pencil(amount_of_pen, amount_of_pencil)\n",
    "\n",
    "print(\"We can even do math inside too:\") \n",
    "pen_and_pencil(10 + 3, 9 + 4)\n",
    "\n",
    "print(\"And we can combine the two, variables and math:\")\n",
    "pen_and_pencil(amount_of_pen + 70, amount_of_pencil + 80)"
   ]
  },
  {
   "cell_type": "markdown",
   "metadata": {},
   "source": [
    "# Exercise 20 Functions and Files"
   ]
  },
  {
   "cell_type": "code",
   "execution_count": null,
   "metadata": {},
   "outputs": [],
   "source": [
    "from sys import argv\n",
    "script, input_file = argv\n",
    "def print_all(f):\n",
    "    print(f.read())\n",
    "def rewind(f):\n",
    "    f.seek(0)\n",
    "def print_a_line(line_count, f):\n",
    "    print(line_count, f.readline())\n",
    "current_file = open(input_file)\n",
    "print(\"First let's print the whole file:\\n\")\n",
    "print_all(current_file)\n",
    "print(\"Now let's rewind, kind of like a tape.\")\n",
    "rewind(current_file)\n",
    "print(\"Let's print three lines:\")\n",
    "current_line = 1 \n",
    "print_a_line(current_line, current_file)\n",
    "current_line = current_line + 1 \n",
    "print_a_line(current_line, current_file)\n",
    "current_line = current_line + 1 \n",
    "print_a_line(current_line, current_file)"
   ]
  },
  {
   "cell_type": "markdown",
   "metadata": {},
   "source": [
    "# Exercise 21 Functions Can Return Something"
   ]
  },
  {
   "cell_type": "code",
   "execution_count": 3,
   "metadata": {},
   "outputs": [
    {
     "name": "stdout",
     "output_type": "stream",
     "text": [
      "Let's do some math with just functions!\n",
      "ADDING 29 + 7\n",
      "SUBTRACTING 50 - 6\n",
      "MULTIPLYING 40 * 3\n",
      "DIVIDING 100 / 2\n",
      "Age: 36, Height: 44, Weight: 120, IQ: 50.0\n",
      "Here is a puzzle.\n",
      "DIVIDING 50.0 / 2\n",
      "MULTIPLYING 120 * 25.0\n",
      "SUBTRACTING 44 - 3000.0\n",
      "ADDING 36 + -2956.0\n",
      "That becomes:  -2920.0 Can you do it by hand?\n"
     ]
    }
   ],
   "source": [
    "def add(a, b): \n",
    "        print(f\"ADDING {a} + {b}\")\n",
    "        return a + b\n",
    "    \n",
    "def subtract(a, b):\n",
    "    print(f\"SUBTRACTING {a} - {b}\")\n",
    "    return a - b\n",
    "\n",
    "def multiply(a, b):\n",
    "    print(f\"MULTIPLYING {a} * {b}\")\n",
    "    return a * b\n",
    "\n",
    "def divide(a, b):\n",
    "    print(f\"DIVIDING {a} / {b}\")\n",
    "    return a / b\n",
    "\n",
    "print(\"Let's do some math with just functions!\")\n",
    "age = add(29, 7)\n",
    "height = subtract(50, 6)\n",
    "weight = multiply(40, 3) \n",
    "iq = divide(100, 2)\n",
    "print(f\"Age: {age}, Height: {height}, Weight: {weight}, IQ: {iq}\")\n",
    "# A puzzle for the extra credit, type it in anyway. \n",
    "print(\"Here is a puzzle.\")\n",
    "what = add(age, subtract(height, multiply(weight, divide(iq, 2))))\n",
    "print(\"That becomes: \", what, \"Can you do it by hand?\")"
   ]
  },
  {
   "cell_type": "markdown",
   "metadata": {},
   "source": [
    "# Exercise 40 modules, classes and objects"
   ]
  },
  {
   "cell_type": "code",
   "execution_count": null,
   "metadata": {},
   "outputs": [],
   "source": [
    "mystuff = {'apple': \"I AM APPLES!\"}\n",
    "print(mystuff['apple'])\n",
    "# this goes in mystuff.py\n",
    "def apple():\n",
    "    print(\"I AM APPLES!\")\n",
    "    # I can use the module MyStuff with import and then access the apple function:\n",
    "    import mystuff  \n",
    "    mystuff.apple()\n",
    "\n",
    "# I could also put a variable in it named tangerine\n",
    "def apple():\n",
    "    print(\"I AM APPLES!\")\n",
    "    \n",
    "# this is just a variable\n",
    "tangerine = \"Living reflection of a dream\"\n",
    "import mystuff\n",
    "mystuff.apple()\n",
    "print(mystuff.tangerine)\n",
    "mystuff['apple']\n",
    "# get apple from dict \n",
    "mystuff.apple()\n",
    "# get apple from the module \n",
    "mystuff.tangerine \n",
    "# same thing, it's just a variable"
   ]
  },
  {
   "cell_type": "code",
   "execution_count": null,
   "metadata": {},
   "outputs": [],
   "source": [
    "class MyStuff(object):\n",
    "    def __init__(self):\n",
    "        self.tangerine = \"And now a thousand years between\"\n",
    "    \n",
    "def apple(self):\n",
    "    print(\"I AM CLASSY APPLES!\")"
   ]
  },
  {
   "cell_type": "code",
   "execution_count": null,
   "metadata": {},
   "outputs": [],
   "source": [
    "thing = MyStuff()\n",
    "thing.apple() \n",
    "print(thing.tangerine)"
   ]
  },
  {
   "cell_type": "code",
   "execution_count": null,
   "metadata": {},
   "outputs": [],
   "source": [
    "# dict style \n",
    "mystuff['apples']\n",
    "# module style \n",
    "mystuff.apples() \n",
    "print(mystuff.tangerine)\n",
    "# class style \n",
    "thing = MyStuff() \n",
    "thing.apples() \n",
    "print(thing.tangerine)"
   ]
  },
  {
   "cell_type": "code",
   "execution_count": null,
   "metadata": {},
   "outputs": [],
   "source": [
    "class Song(object):\n",
    "def __init__(self, lyrics): \n",
    "    self.lyrics = lyrics\n",
    "    \n",
    "def sing_me_a_song(self):\n",
    "    for line in self.lyrics: \n",
    "        print(line)\n",
    "happy_bday = Song([\"Happy birthday to you\", \n",
    "                   \"I don't want to get sued\", \n",
    "                   \"So I'll stop right there\"])\n",
    "bulls_on_parade = Song([\"They rally around tha family\", \n",
    "                        \"With pockets full of shells\"])\n",
    "happy_bday.sing_me_a_song()\n",
    "bulls_on_parade.sing_me_a_song()"
   ]
  },
  {
   "cell_type": "markdown",
   "metadata": {},
   "source": [
    "# Exercise 41 learning to speak object-oriented"
   ]
  },
  {
   "cell_type": "code",
   "execution_count": null,
   "metadata": {},
   "outputs": [],
   "source": [
    "import random\n",
    "from urllib.request import urlopen \n",
    "import sys\n",
    "WORD_URL = \"http://learncodethehardway.org/words.txt\" \n",
    "WORDS = []\n",
    "PHRASES = { \"class %%%(%%%):\": \n",
    "           \"Make a class named %%% that is-a %%%.\", \n",
    "           \"class %%%(object):\\n\\tdef __init__(self, ***)\" : \n",
    "           \"class %%% has-a __init__ that takes self and *** params.\",\n",
    "           \"class %%%(object):\\n\\tdef ***(self, @@@)\": \n",
    "           \"class %%% has-a function *** that takes self and @@@ params.\", \n",
    "           \"*** = %%%()\": \n",
    "           \"Set *** to an instance of class %%%.\",\n",
    "           \"***.***(@@@)\":\n",
    "           \"From *** get the *** function, call it with params self, @@@.\",\n",
    "           \"***.*** = '***'\": \n",
    "           \"From *** get the *** attribute and set it to '***'.\" \n",
    "          }\n",
    "# do they want to drill phrases first\n",
    "if len(sys.argv) == 2 and sys.argv[1] == \"english\": \n",
    "    PHRASE_FIRST = True \n",
    "else: \n",
    "    PHRASE_FIRST = False\n",
    "# load up the words from the website \n",
    "for word in urlopen(WORD_URL).readlines(): \n",
    "    WORDS.append(str(word.strip(), encoding=\"utf-8\"))\n",
    "def convert(snippet, phrase):\n",
    "    class_names = [w.capitalize() for w in"
   ]
  },
  {
   "cell_type": "markdown",
   "metadata": {},
   "source": [
    "# Exercise 42 Is-A, Has-A, Objects, and Classes\n",
    "We use the phrase is-a when we talk about objects and classes being related to each other by a class relationship. We use has-a when we talk about objects and classes that are related only because they reference each other.\n",
    "it didn't run :c"
   ]
  },
  {
   "cell_type": "code",
   "execution_count": 1,
   "metadata": {},
   "outputs": [],
   "source": [
    "class Animal(object):\n",
    "    pass\n",
    "class Dog(Animal):\n",
    "    def __init__(self, name):\n",
    "        self.name = name\n",
    "class Cat(Animal):\n",
    "    def __init__(self, name):\n",
    "        self.name = name\n",
    "class Person(object):\n",
    "    def __init__(self, name):\n",
    "        self.name = name\n",
    "class Employee(Person):\n",
    "    def __init__(self, name, salary):\n",
    "        super(Employee, self).__init__(name)\n",
    "        self.salary = salary\n",
    "class Fish(object):\n",
    "    pass\n",
    "class Salmon(Fish):\n",
    "    pass\n",
    "class Halibut(Fish):\n",
    "    pass\n",
    "rover = Dog(\"Rover\")\n",
    "satan = Cat(\"Satan\")\n",
    "mary = Person(\"Mary\")\n",
    "mary.pet = satan\n",
    "class Halibut(Fish):\n",
    "    pass\n",
    "rover = Dog(\"Rover\")\n",
    "satan = Cat(\"Satan\")\n",
    "mary = Person(\"Mary\")\n",
    "mary.pet = satan\n",
    "frank = Employee(\"Frank\", 120000)\n",
    "frank.pet = rover\n",
    "flipper = Fish()\n",
    "crouse = Salmon()\n",
    "harry = Halibut()"
   ]
  },
  {
   "cell_type": "markdown",
   "metadata": {},
   "source": [
    "# Exercise 43 Basic Object-Oriented Analysis and Design\n",
    "Solve a problem with several processes"
   ]
  },
  {
   "cell_type": "code",
   "execution_count": null,
   "metadata": {},
   "outputs": [],
   "source": [
    "class Scene(object):\n",
    "    def enter(self):\n",
    "        pass\n",
    "class Engine(object):\n",
    "     def __init__(self, scene_map):\n",
    "        pass\n",
    "\n",
    "def play(self):\n",
    "    pass\n",
    "class Death(Scene):\n",
    "    def enter(self):\n",
    "        pass\n",
    "class CentralCorridor(Scene):\n",
    "    def enter(self):\n",
    "        pass\n",
    "class LaserWeaponArmory(Scene):\n",
    "    def enter(self):\n",
    "        pass\n",
    "class TheBridge(Scene):\n",
    "    def enter(self):\n",
    "        pass\n",
    "class EscapePod(Scene):\n",
    "    def enter(self):\n",
    "        pass\n",
    "class Map(object):\n",
    "    def __init__(self, start_scene):\n",
    "        pass\n",
    "    def next_scene(self, scene_name):\n",
    "         pass\n",
    "    def opening_scene(self):\n",
    "        pass\n",
    "\n",
    "a_map = Map('central_corridor')\n",
    "a_game = Engine(a_map)\n",
    "a_game.play()"
   ]
  }
 ],
 "metadata": {
  "kernelspec": {
   "display_name": "Python 3",
   "language": "python",
   "name": "python3"
  },
  "language_info": {
   "codemirror_mode": {
    "name": "ipython",
    "version": 3
   },
   "file_extension": ".py",
   "mimetype": "text/x-python",
   "name": "python",
   "nbconvert_exporter": "python",
   "pygments_lexer": "ipython3",
   "version": "3.7.3"
  }
 },
 "nbformat": 4,
 "nbformat_minor": 2
}
